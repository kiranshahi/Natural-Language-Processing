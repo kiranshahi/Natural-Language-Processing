{
  "nbformat": 4,
  "nbformat_minor": 0,
  "metadata": {
    "colab": {
      "provenance": [],
      "authorship_tag": "ABX9TyNflITJDuP4HL2HLw4PvrtS",
      "include_colab_link": true
    },
    "kernelspec": {
      "name": "python3",
      "display_name": "Python 3"
    },
    "language_info": {
      "name": "python"
    }
  },
  "cells": [
    {
      "cell_type": "markdown",
      "metadata": {
        "id": "view-in-github",
        "colab_type": "text"
      },
      "source": [
        "<a href=\"https://colab.research.google.com/github/kiranshahi/Natural-Language-Processing/blob/main/Topic_Modelling.ipynb\" target=\"_parent\"><img src=\"https://colab.research.google.com/assets/colab-badge.svg\" alt=\"Open In Colab\"/></a>"
      ]
    },
    {
      "cell_type": "markdown",
      "source": [
        "# Topic Modelling\n",
        "\n",
        "## Problem description\n",
        "\n",
        "Topic modelling is a type of statistical modelling where we aim to discover the hidden semantic structures from a large set of text known as the corpus (collections of documents).\n",
        "\n",
        "Here we are going to use the Laten Dirichlet Allocation (LDA) as a topic model to classify the text in a document. It assumes that each document in a corpus has one or more hidden topics, and each topic is supported by the number of words.\n",
        "\n",
        "We are going to find these hidden topics and their supporting words by maximising the posterior probability of the whole corpus with the given topics and words. `p(corpus|topics,words)`\n",
        "\n",
        "## Implementation and Results"
      ],
      "metadata": {
        "id": "HAaH2WddbJEx"
      }
    },
    {
      "cell_type": "code",
      "execution_count": 1,
      "metadata": {
        "id": "8hjG1IJFbGfC"
      },
      "outputs": [],
      "source": [
        "import nltk\n",
        "from nltk.corpus import stopwords\n",
        "from nltk.stem.snowball import SnowballStemmer\n",
        "from gensim import models, corpora"
      ]
    },
    {
      "cell_type": "code",
      "source": [
        "documents = [\n",
        "  \"\"\"\n",
        "  Machine learning (ML) is the study of computer algorithms that can improve automatically through experience and by the use of data. \n",
        "  It is seen as a part of artificial intelligence. Machine learning algorithms build a model based on sample data, known as training data, \n",
        "  in order to make predictions or decisions without being explicitly programmed to do so. \n",
        "  Machine learning are used in a wide variety of applications, such as in medicine, email filtering, speech recognition, \n",
        "  and computer vision, where it is difficult or unfeasible to develop conventional algorithms to perform the needed tasks.\n",
        "  We’re in the age where machines are no different. Machine Learning is still fairly a new concept. \n",
        "  We can teach machines how to learn and some machines can even learn on its own. This is magical phenomenon is called Machine Learning.\n",
        "  \".\n",
        "  \"\"\",\n",
        "  \"\"\"\n",
        "  Indian market on a working day, opens at 9:00 AM and closes at 3:30 PM. \n",
        "  The price of the stocks when the market opens is called the opening price. \n",
        "  The price of the stocks when the market closes is called the closing price. \n",
        "  Through the session, the stocks also hit two more values of importance \n",
        "  which are the day’s highest price and the day’s lowest price.\n",
        "  A market is where trading of stocks happen. Traders are of two kinds.\n",
        "  Trader who buys stocks and a trader who sells stocks. Sellers offer the stocks and buyers bid the stocks. \n",
        "  If there is buying pressure and buyers bid at a higher price and the stock prices rise, we call this state of market as bullish.\n",
        "  \"\"\"\n",
        "]"
      ],
      "metadata": {
        "id": "QJvnMR3MbOAk"
      },
      "execution_count": 2,
      "outputs": []
    },
    {
      "cell_type": "code",
      "source": [
        "# Clean the data by using stemming and stopwords removal\n",
        "\n",
        "nltk.download('stopwords')\n",
        "def stemming(documents):\n",
        "  stemmer = SnowballStemmer('english')\n",
        "  stop_words = stopwords.words('english')\n",
        "  texts = [\n",
        "           [stemmer.stem(word) for word in document.lower().split() if word not in stop_words]\n",
        "           for document in documents\n",
        "          ]\n",
        "  return texts"
      ],
      "metadata": {
        "colab": {
          "base_uri": "https://localhost:8080/"
        },
        "id": "yJr-rYOtbSpC",
        "outputId": "0f7603a6-2206-4beb-df48-1dfbcefe2745"
      },
      "execution_count": 3,
      "outputs": [
        {
          "output_type": "stream",
          "name": "stderr",
          "text": [
            "[nltk_data] Downloading package stopwords to /root/nltk_data...\n",
            "[nltk_data]   Unzipping corpora/stopwords.zip.\n"
          ]
        }
      ]
    },
    {
      "cell_type": "code",
      "source": [
        "texts = stemming(documents)\n",
        "\n",
        "# Create a dictionary from the words\n",
        "dictionary = corpora.Dictionary(texts)\n",
        "\n",
        "# Create a document-term matrix\n",
        "doc_term_mat = [dictionary.doc2bow(text) for text in texts]\n",
        "\n",
        "# Generate the LDA model \n",
        "num_topics = 2\n",
        "ldamodel = models.ldamodel.LdaModel(doc_term_mat, \n",
        "        num_topics=num_topics, id2word=dictionary, passes=25)"
      ],
      "metadata": {
        "id": "NmbAhKI9bVei"
      },
      "execution_count": 4,
      "outputs": []
    },
    {
      "cell_type": "code",
      "source": [
        "num_words = 5\n",
        "for item in ldamodel.print_topics(num_topics=num_topics, num_words=num_words):\n",
        "  print(f'\\nTop {num_words} contributing words for {(\"first\" if item[0] == 0 else \"second\" )} document:')\n",
        "  list_of_strings = item[1].split(' + ')\n",
        "  for text in list_of_strings:\n",
        "    details = text.split('*')\n",
        "    print(\"%-12s:%0.2f%%\" %(details[1], 100*float(details[0])))"
      ],
      "metadata": {
        "colab": {
          "base_uri": "https://localhost:8080/"
        },
        "id": "C9EcztoubWy-",
        "outputId": "69e105b1-d3c6-4842-ee86-3b585476a03f"
      },
      "execution_count": 5,
      "outputs": [
        {
          "output_type": "stream",
          "name": "stdout",
          "text": [
            "\n",
            "Top 5 contributing words for first document:\n",
            "\"machin\"    :6.70%\n",
            "\"learn\"     :5.10%\n",
            "\"algorithm\" :2.80%\n",
            "\"use\"       :2.00%\n",
            "\"data,\"     :2.00%\n",
            "\n",
            "Top 5 contributing words for second document:\n",
            "\"stock\"     :6.40%\n",
            "\"price\"     :4.70%\n",
            "\"market\"    :4.70%\n",
            "\"call\"      :3.00%\n",
            "\"close\"     :3.00%\n"
          ]
        }
      ]
    },
    {
      "cell_type": "code",
      "source": [
        "new_docs = [\n",
        "  \"\"\"\n",
        "  Stock market prediction and analysis are some of the most difficult jobs to complete. There are numerous causes for this,\n",
        "  including market volatility and a variety of other dependent and independent variables that influence the value of a certain stock \n",
        "  in the market. These variables make it extremely difficult for any stock market expert to anticipate the rise and fall of the \n",
        "  market with great precision. However, with the introduction of Machine Learning and its strong algorithms, the most recent market research \n",
        "  and Stock Market Prediction advancements have begun to include such approaches in analyzing stock market data. In summary, Machine Learning \n",
        "  Algorithms are widely utilized by many organizations in Stock market prediction. This article will walk through a simple implementation \n",
        "  of analyzing and forecasting the stock prices of a Popular Worldwide Online Retail Store in Python using various Machine Learning Algorithms.\n",
        "  \"\"\"\n",
        "]\n",
        "\n",
        "new_texts = stemming(new_docs)\n",
        "new_doc_term_mat = [dictionary.doc2bow(text) for text in new_texts]\n",
        "\n",
        "vector = ldamodel[new_doc_term_mat]\n",
        "print(vector[0])\n"
      ],
      "metadata": {
        "colab": {
          "base_uri": "https://localhost:8080/"
        },
        "id": "Knyji8YWba-6",
        "outputId": "15b21486-e9c8-4732-9c24-3edad5be035d"
      },
      "execution_count": 6,
      "outputs": [
        {
          "output_type": "stream",
          "name": "stdout",
          "text": [
            "[(0, 0.4519081), (1, 0.5480919)]\n"
          ]
        }
      ]
    },
    {
      "cell_type": "markdown",
      "source": [
        "## Discussions\n",
        "In this task, we had built an LDA model for and discovered the abstract topics that occurred in the collection of documents.\n",
        "\n",
        "### First document\n",
        "For the first document, the top five contributing words are machin (6.70%), learn (5.10%), algorithm (2.80%), data, (2.00%) and use (2.00%)respectively. The document was about machine learning and the topic suggested by the model is related to it which is expected.\n",
        "\n",
        "### Second document\n",
        "For the second document, the top five contributing words are stock (6.40%), price (4.70%), market (4.70%), call (3.00%) and price. (3.00%)respectively. The document was about the stock market and the topic suggested by the model is related to it, which is as expected.\n",
        "\n",
        "### New document\n",
        "For this, we picked the article related to implementation in the Machine learning stock market. So, that it contains the topic related to both documents. After computing its projection vector from the LDA model we got the following result. \n",
        "\n",
        "`[(0, 0.45192024), (1, 0.5480798)]`\n",
        "\n",
        "The result shows that the new document has content related to both the first and second documents."
      ],
      "metadata": {
        "id": "YYKDb4tbbdgZ"
      }
    }
  ]
}