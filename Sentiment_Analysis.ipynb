{
  "nbformat": 4,
  "nbformat_minor": 0,
  "metadata": {
    "colab": {
      "provenance": [],
      "collapsed_sections": [],
      "include_colab_link": true
    },
    "kernelspec": {
      "name": "python3",
      "display_name": "Python 3"
    },
    "language_info": {
      "name": "python"
    }
  },
  "cells": [
    {
      "cell_type": "markdown",
      "metadata": {
        "id": "view-in-github",
        "colab_type": "text"
      },
      "source": [
        "<a href=\"https://colab.research.google.com/github/kiranshahi/Natural-Language-Processing/blob/main/Sentiment_Analysis.ipynb\" target=\"_parent\"><img src=\"https://colab.research.google.com/assets/colab-badge.svg\" alt=\"Open In Colab\"/></a>"
      ]
    },
    {
      "cell_type": "markdown",
      "metadata": {
        "id": "2A2KFRhi2vWM"
      },
      "source": [
        "# Sentiment Analysis\n",
        "\n",
        "## Problem description\n",
        "\n",
        "Though the Sentiment analysis problem is considered as the basic problem in natural language processing, it is still a challenging problem if we want to achieve a perfect performance. Because of the wide variety of writing styles, sarcasm, slang, etc.\n",
        "\n",
        "In this lab task, we are going to use the \"movie_reviews\" dataset from the nltk corpus. This dataset contains a set of 1000 positive and 1000 negative reviews.\n",
        "\n",
        "We can formulate this problem of sentiment analysis for movie reviews in the following ways.\n",
        "\n",
        "*   Load the positive and negative reviews separately into raw_data\n",
        "*   We generate the labels for the reviews, 0 for positive and 1 for negative. From \"raw_data\" and \"labels\", we split 80% data into the training set and 20% in the testing set.\n",
        "*   Convert the text into tf-idf / tf vectors.\n",
        "*   Train the data with naïve Bayes classifier. Since our data are discrete, we will use Multinomial Naïve Bayes classifier to train dataset.\n",
        "*   Next, we will evaluate the performance from the metrics of precision, recall and f1-score.\n",
        "\n",
        "## Implementation and Results"
      ]
    },
    {
      "cell_type": "code",
      "metadata": {
        "colab": {
          "base_uri": "https://localhost:8080/"
        },
        "id": "mkl3ci7C21wJ",
        "outputId": "7486f3cd-2137-4da6-b803-3eebee671eed"
      },
      "source": [
        "!pip install nltk\n",
        "import nltk\n",
        "from nltk.corpus import movie_reviews\n",
        "\n",
        "nltk.download('movie_reviews')"
      ],
      "execution_count": 1,
      "outputs": [
        {
          "output_type": "stream",
          "name": "stdout",
          "text": [
            "Looking in indexes: https://pypi.org/simple, https://us-python.pkg.dev/colab-wheels/public/simple/\n",
            "Requirement already satisfied: nltk in /usr/local/lib/python3.7/dist-packages (3.7)\n",
            "Requirement already satisfied: tqdm in /usr/local/lib/python3.7/dist-packages (from nltk) (4.64.1)\n",
            "Requirement already satisfied: click in /usr/local/lib/python3.7/dist-packages (from nltk) (7.1.2)\n",
            "Requirement already satisfied: regex>=2021.8.3 in /usr/local/lib/python3.7/dist-packages (from nltk) (2022.6.2)\n",
            "Requirement already satisfied: joblib in /usr/local/lib/python3.7/dist-packages (from nltk) (1.1.0)\n"
          ]
        },
        {
          "output_type": "stream",
          "name": "stderr",
          "text": [
            "[nltk_data] Downloading package movie_reviews to /root/nltk_data...\n",
            "[nltk_data]   Unzipping corpora/movie_reviews.zip.\n"
          ]
        },
        {
          "output_type": "execute_result",
          "data": {
            "text/plain": [
              "True"
            ]
          },
          "metadata": {},
          "execution_count": 1
        }
      ]
    },
    {
      "cell_type": "code",
      "metadata": {
        "id": "BiNDOij024NB"
      },
      "source": [
        "from sklearn.naive_bayes import MultinomialNB\n",
        "from sklearn.feature_extraction.text import TfidfVectorizer\n",
        "from sklearn import metrics\n",
        "from sklearn.model_selection import train_test_split\n",
        "\n",
        "import matplotlib.pyplot as plt"
      ],
      "execution_count": 2,
      "outputs": []
    },
    {
      "cell_type": "code",
      "metadata": {
        "id": "vyISw9e93BHY"
      },
      "source": [
        "# Get the positive and negative review IDs\n",
        "fileids_pos = movie_reviews.fileids('pos')\n",
        "fileids_neg = movie_reviews.fileids('neg')\n",
        "# Load the reviews\n",
        "raw_data = []\n",
        "for i in range(len(fileids_pos)):\n",
        "  raw_data.append(movie_reviews.raw(fileids_pos[i]))\n",
        "for i in range(len(fileids_neg)):\n",
        "  raw_data.append(movie_reviews.raw(fileids_neg[i]))\n",
        "\n",
        "# The corresponding labels for the reviews, 0 for postive, 1 for negative\n",
        "labels = [0] * len(fileids_pos) + [1] * len(fileids_neg)\n",
        "\n",
        "# Split the training and testing set by 80-20%\n",
        "X_train, X_test, Y_train, Y_test = train_test_split(raw_data, labels, test_size=0.2)"
      ],
      "execution_count": 3,
      "outputs": []
    },
    {
      "cell_type": "code",
      "metadata": {
        "id": "hTRfVM_G3Dbx"
      },
      "source": [
        "# Calculate the tf-idf features from the training set\n",
        "def calculate_tf_tfid(is_tfidf):\n",
        "  tfidf = TfidfVectorizer(use_idf=is_tfidf)\n",
        "  tfidf_data = tfidf.fit_transform(X_train)\n",
        "  # print(tfidf_data.shape)\n",
        "  \n",
        "  # Train the naive Bayes model for prediction\n",
        "  classifier = MultinomialNB().fit(tfidf_data, Y_train)\n",
        "\n",
        "  test_performance(classifier, tfidf)\n"
      ],
      "execution_count": 4,
      "outputs": []
    },
    {
      "cell_type": "code",
      "metadata": {
        "id": "esFH2OkUWWR4"
      },
      "source": [
        "# Evaluate the sentiment for each sentence in a review, and plot the variation of sentiment\n",
        "def plot_sentiment_variation(classifier, tfidf):\n",
        "  sentences = X_test[0].split('.')\n",
        "  testing_tfidf = tfidf.transform(sentences)\n",
        "  predictions = classifier.predict_proba(testing_tfidf)\n",
        "  polarity = [x[0] - x[1] for x in predictions]\n",
        "  # polarity = [x[0] if (x[0] > x[1]) else -x[1] for x in predictions]\n",
        "  \n",
        "  plt.xlabel('Sentences')\n",
        "  plt.ylabel('Polarity')\n",
        "  plt.plot(polarity)\n",
        "  plt.ylim(-1, 1)"
      ],
      "execution_count": 5,
      "outputs": []
    },
    {
      "cell_type": "code",
      "metadata": {
        "id": "DwEjgJQ83ENv"
      },
      "source": [
        "# Performance on the testing set\n",
        "def test_performance(classifier, tfidf):\n",
        "  testing_tfidf = tfidf.transform(X_test)\n",
        "  predictions = classifier.predict(testing_tfidf)\n",
        "  print(metrics.classification_report(Y_test, predictions, target_names=['pos', 'neg']))\n",
        "  plot_sentiment_variation(classifier,tfidf)"
      ],
      "execution_count": 6,
      "outputs": []
    },
    {
      "cell_type": "code",
      "metadata": {
        "colab": {
          "base_uri": "https://localhost:8080/",
          "height": 457
        },
        "id": "ANFC8PZhUdVd",
        "outputId": "09e22749-a040-4fe5-c1b5-e9766bc0b9d6"
      },
      "source": [
        "#implementing the tf-idf feature\n",
        "print(\"Performance evaluation metrics for tf-idf feature\")\n",
        "calculate_tf_tfid(True)"
      ],
      "execution_count": 7,
      "outputs": [
        {
          "output_type": "stream",
          "name": "stdout",
          "text": [
            "Performance evaluation metrics for tf-idf feature\n",
            "              precision    recall  f1-score   support\n",
            "\n",
            "         pos       0.81      0.81      0.81       192\n",
            "         neg       0.83      0.82      0.82       208\n",
            "\n",
            "    accuracy                           0.82       400\n",
            "   macro avg       0.82      0.82      0.82       400\n",
            "weighted avg       0.82      0.82      0.82       400\n",
            "\n"
          ]
        },
        {
          "output_type": "display_data",
          "data": {
            "text/plain": [
              "<Figure size 432x288 with 1 Axes>"
            ],
            "image/png": "[encoded data removed]"
          },
          "metadata": {
            "needs_background": "light"
          }
        }
      ]
    },
    {
      "cell_type": "code",
      "metadata": {
        "colab": {
          "base_uri": "https://localhost:8080/",
          "height": 457
        },
        "id": "45ut4nlQUfGa",
        "outputId": "78acf191-b61d-4310-d9c4-fd57e9b0dd27"
      },
      "source": [
        "#implementing the tf features\n",
        "print(\"Performance evaluation metrics for tf feature\")\n",
        "calculate_tf_tfid(False)"
      ],
      "execution_count": 8,
      "outputs": [
        {
          "output_type": "stream",
          "name": "stdout",
          "text": [
            "Performance evaluation metrics for tf feature\n",
            "              precision    recall  f1-score   support\n",
            "\n",
            "         pos       0.84      0.72      0.78       192\n",
            "         neg       0.77      0.88      0.82       208\n",
            "\n",
            "    accuracy                           0.80       400\n",
            "   macro avg       0.81      0.80      0.80       400\n",
            "weighted avg       0.80      0.80      0.80       400\n",
            "\n"
          ]
        },
        {
          "output_type": "display_data",
          "data": {
            "text/plain": [
              "<Figure size 432x288 with 1 Axes>"
            ],
            "image/png": "[encoded data removed]"
          },
          "metadata": {
            "needs_background": "light"
          }
        }
      ]
    },
    {
      "cell_type": "code",
      "metadata": {
        "id": "uPzxj2l_3Gi_"
      },
      "source": [
        "# print(X_train[0])\n",
        "# print(testing_tfidf[0])"
      ],
      "execution_count": 9,
      "outputs": []
    },
    {
      "cell_type": "markdown",
      "metadata": {
        "id": "WIThzwmh43kH"
      },
      "source": [
        "## Discussions\n",
        "In this task, we had implemented sentiment analysis using the simple word count (tf/tf-idf) features and naïve Bayes method on \"movie_reviews\" dataset, where we have 1000 positive and 1000 negative reviews.\n",
        "\n",
        "### For tf feature\n",
        "When using the tf feature we got an accuracy of 0.80 which means our model is 80% accurate. The result shows that the precision for positive is 0.84 (84%) and negative is 0.77 (77%). It means that 84 out of 100 reviews that were predicted positive are correct and others are false predictions. Similarly, 77 out of 100 negative reviews predicted were correct and the rest are false predictions. In comparison, to the tf-idf feature, the accuracy of negative prediction is quite low.\n",
        "\n",
        "Likewise, the recall value for positive and negative prediction was 0.72 and 0.88 respectively. It means that model was able to predict 72 positive reviews out of 100 positive reviews. Similarly, it was able to predict 88 negative reviews out of 100 negative reviews which is pretty good.\n",
        "\n",
        "### For tf-idf feature\n",
        "After using the tf-idf feature we got an accuracy of 0.82 which is higher than the tf feature. It means the sentiment analysis model using tf-idf feature is 82% accurate. From metrics for the performance evaluation displayed above, we got a precision of 0.81 for positive and 0.83 for negative. It means that 81% of the review predicted positive was correct and the rest were false prediction. Similarly, 83% of the review predicted negative was correct and the rest were false predictions.\n",
        "\n",
        "Likewise, the recall value for positive was 0.81 and negative was 0.82. It means that model was able to predict 81 positive reviews out of 100 positive reviews and 82 negative reviews out of 100 negative reviews."
      ]
    }
  ]
}