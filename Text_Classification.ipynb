{
  "nbformat": 4,
  "nbformat_minor": 0,
  "metadata": {
    "colab": {
      "provenance": [],
      "authorship_tag": "ABX9TyO/ygzKw59BB2dsolc+7RHr",
      "include_colab_link": true
    },
    "kernelspec": {
      "name": "python3",
      "display_name": "Python 3"
    },
    "language_info": {
      "name": "python"
    }
  },
  "cells": [
    {
      "cell_type": "markdown",
      "metadata": {
        "id": "view-in-github",
        "colab_type": "text"
      },
      "source": [
        "<a href=\"https://colab.research.google.com/github/kiranshahi/Natural-Language-Processing/blob/main/Text_Classification.ipynb\" target=\"_parent\"><img src=\"https://colab.research.google.com/assets/colab-badge.svg\" alt=\"Open In Colab\"/></a>"
      ]
    },
    {
      "cell_type": "markdown",
      "source": [
        "# Text Classification\n",
        "\n",
        "## Problem description\n",
        "In this task, we are going to categories the document and assign it to one of 20 newsgroups. Here we have dataset called 20newsgroups from sklearn which contain the collection of message and 20 newsgroups such as 'sci.electronics', 'sci.crypt','comp.os.ms-windows.misc', 'rec.motorcycles' etc.\n",
        "\n",
        "We are going to use simple word count features like tf or tf-idf, and **Multinomial Naïve Bayes** as the method of classification.\n",
        "\n",
        "We can formulate a text classification problem in the following steps.\n",
        "\n",
        "\n",
        "*   20newsgroups dataset is divided into two subsets for training (development) and testing(performance evaluation). At first, we load the 'train' subset as training data.\n",
        "*   We convert train data into tf-idf or tf vectors.\n",
        "*   Next we train our data with Multinomial Naïve Bayes classifier.\n",
        "*   We load the testing set of data, convert it into tf-idf features and perform the classification.\n",
        "\n",
        "\n",
        "## Implementation and Results"
      ],
      "metadata": {
        "id": "YzjxoEdFaa83"
      }
    },
    {
      "cell_type": "code",
      "execution_count": null,
      "metadata": {
        "id": "IRwrEZKkaWO8"
      },
      "outputs": [],
      "source": [
        "from sklearn.datasets import fetch_20newsgroups\n",
        "from sklearn.naive_bayes import MultinomialNB\n",
        "from sklearn.feature_extraction.text import TfidfVectorizer"
      ]
    },
    {
      "cell_type": "code",
      "source": [
        "# Get the training dataset for the specified categoires\n",
        "categories = ['sci.electronics', 'sci.crypt',\n",
        "              'comp.os.ms-windows.misc', 'rec.motorcycles']\n",
        "training_data = fetch_20newsgroups(subset='train', categories=categories)"
      ],
      "metadata": {
        "id": "cnnoh2URahvi"
      },
      "execution_count": null,
      "outputs": []
    },
    {
      "cell_type": "code",
      "source": [
        "# Create the tf-idf transformer\n",
        "tfidf = TfidfVectorizer(use_idf=True)\n",
        "# tfidf = TfidfVectorizer(use_idf=False)\n",
        "training_tfidf = tfidf.fit_transform(training_data.data)\n",
        "print(training_tfidf.shape)\n",
        "\n",
        "# Train a Multinomial Naive Bayes classifier\n",
        "classifier = MultinomialNB().fit(training_tfidf, training_data.target)"
      ],
      "metadata": {
        "colab": {
          "base_uri": "https://localhost:8080/"
        },
        "id": "J-xsSrhIalGo",
        "outputId": "df5e99ec-d75c-4504-8058-bd937eeeef28"
      },
      "execution_count": null,
      "outputs": [
        {
          "output_type": "stream",
          "name": "stdout",
          "text": [
            "(2375, 64073)\n"
          ]
        }
      ]
    },
    {
      "cell_type": "code",
      "source": [
        "from sklearn import metrics\n",
        "\n",
        "testing_data = fetch_20newsgroups(subset='test', categories=categories)\n",
        "testing_tfidf = tfidf.transform(testing_data.data)\n",
        "predictions = classifier.predict(testing_tfidf)"
      ],
      "metadata": {
        "id": "ZbvBEOZwasRK"
      },
      "execution_count": null,
      "outputs": []
    },
    {
      "cell_type": "code",
      "source": [
        "errors = [i for i in range(len(predictions)) if predictions[i] != testing_data.target[i]]\n",
        "\n",
        "for i, post_id in enumerate(errors[:5]):\n",
        "  print(\"------------------------------------------------------------------\")\n",
        "  print(\"%s --> %s\\n\" %(testing_data.target_names[testing_data.target[post_id]], \n",
        "                      testing_data.target_names[predictions[post_id]]))\n",
        "  print(testing_data.data[post_id])"
      ],
      "metadata": {
        "colab": {
          "base_uri": "https://localhost:8080/"
        },
        "id": "jr3X5rY_auyl",
        "outputId": "a33a048d-ef8f-4359-9e28-bf91044bb6c4"
      },
      "execution_count": null,
      "outputs": [
        {
          "output_type": "stream",
          "name": "stdout",
          "text": [
            "------------------------------------------------------------------\n",
            "sci.electronics --> rec.motorcycles\n",
            "\n",
            "From: jeffj@cbnewsm.cb.att.com (jeffrey.n.jones)\n",
            "Subject: SPICE for XT with no co-processer?\n",
            "Organization: AT&T\n",
            "Distribution: usa\n",
            "Lines: 10\n",
            "\n",
            "I want to run SPICE on my XT so I can learn more about amplifiers\n",
            "and oscilators. Is there a version of this that will run on my XT\n",
            "with no math co-processer, if so where can I get it? Thanks for any\n",
            "and all help!\n",
            "\n",
            "Jeff\n",
            "-- \n",
            " Jeff Jones  AB6MB         |  OPPOSE THE NORTH AMERICAN FREE TRADE AGREEMENT!\n",
            " jeffj@seeker.mystic.com   |  Canada/USA Free Trade cost Canada 400,000 jobs. \n",
            " Infolinc BBS 415-778-5929 |  Want to guess how many we'll lose to Mexico?\n",
            "\n",
            "------------------------------------------------------------------\n",
            "sci.electronics --> sci.crypt\n",
            "\n",
            "From: me170pjd@emba-news.uvm.edu.UUCP (Peter J Demko)\n",
            "Subject: Re: PC parallel I (!= I/O)\n",
            "Originator: me170pjd@freehold.emba.uvm.edu\n",
            "Organization: University of Vermont -- Division of EMBA Computer Facility\n",
            "Lines: 19\n",
            "\n",
            "From article <1993Apr26.110250.5243@nmt.edu>, by erickson@azure.nmt.edu (Alan Erickson):\n",
            "> \tI'm trying to bring in 8+ bits to a PC, and would like\n",
            "> \tto use interrupt-driven routines. Without buying an IO\n",
            "> \tboard or making a new port, _where_ can I bring in these\n",
            "> \tbits? LPT seems to have only a few inputs, but I've heard\n",
            "> \trumours that some LPTs have bidirectional lines. Anybody\n",
            "> \tknow fer sure? If any bi-d LPTs, which boards have them\n",
            "> \t(I'll be running a new 386DX-33)?\n",
            "> \n",
            "> ------------------------------------------------------------------\n",
            "> Alan Erickson   erickson@baltic.nmt.edu\t\t\n",
            "> \n",
            "> to all SunRayce '93 competitors: I hope you're getting\n",
            "> about as much sleep as I am.....\n",
            "> ------------------------------------------------------------------\n",
            "\n",
            "I'M WATCHING ONE BEING BUILT RIGHT HERE AT UVM AND THE TEAM IS \n",
            "SHAGGIN' IT THESE DAYS.\n",
            "                                 ME170PJD@UVM.EDU\n",
            "\n",
            "------------------------------------------------------------------\n",
            "sci.electronics --> sci.crypt\n",
            "\n",
            "From: squish@endor.uucp (Shishin Yamada)\n",
            "Subject: Re: Laser vs Bubblejet?\n",
            "Organization: Aiken Computation Lab, Harvard University\n",
            "Lines: 56\n",
            "\n",
            "\tJust thought I would add $0.02 to DeskJet thread. I got my\n",
            "first one in college about 5 or so years ago.\n",
            "\n",
            "\tI've been a happy HP user of the DeskWriter for Macintosh for\n",
            "past 5 years. I got one just a few months after their release. And I\n",
            "got software revision 1.0a (now I'm up to rev. 3.1. Our family (sister\n",
            "and father) have each purchased their own DW's after seeing mine go\n",
            "for one year unscathed (their stuck to their trusty ImageWriter II's).\n",
            "The original DW has gone for 5 years at moderate personal use. I would\n",
            "say that it has gone through at least 15,000 sheets, and around one\n",
            "(small) ink cartridge every 3 months or so.\n",
            "\n",
            "\tMy brother might take this DW now (I'm probably gonna give it\n",
            "to him), and I am looking to upgrade to a color DW. The chief\n",
            "advantages/disadvantages I've found over the years are:\n",
            "\n",
            "Advantages:\tQuick (2-3 ppm), Quiet (roomate can sleep while it's\n",
            "printing), AppleTalk Networkable (unfortunately the original wasn't,\n",
            "so look out if you buy used. I rewired our home with phonenet\n",
            "AppleTalk connectors, and while home, we can all use my dad's one\n",
            "DW!), and cheap (now run ~$300). BTW, you can upgrade older DW's to\n",
            "color or for appletalk, I dunno if HP still does the upgrades, but I\n",
            "received many offers (I just didn't ned it however). Also, crisp\n",
            "laser-quality output is a wonder (used to really impress those\n",
            "ImageWriter Dot-Matrix people so much so, that I had to charge $0.25\n",
            "per sheet to stop my college dorm neighbors from bothering me at all\n",
            "hours of the night....)\n",
            "\n",
            "Disadvantages.\tInk used to be hard to find, and wasn't cheap, and\n",
            "wasn't originally water-proof. While HP has done wonders with the ink\n",
            "(I dunno if it's still toxic), it is still subjet to smearing and\n",
            "running (if you run around in the damp Boston rain, and get your\n",
            "bookbag completely soaked). Ink now runs about $14-$15 for small carts\n",
            "(I get mine from Elek-Tek in Chicago, I think they're now down to\n",
            "$12). The ink carts used to say they're dated for only 6 months, but\n",
            "I don't think they say so anymore. We stick to a 4 month supply (of\n",
            "about 3 carts). We use cheap Hammerhill Laser Print paper (after\n",
            "fooling for a long time. Laser/Xerox paper is also good). Smearing\n",
            "doesn't happen, unless you have a brand new ink cart and you grab the\n",
            "paper and smudge it all over as soon as it comes out of the machine.\n",
            "Other disadvantages are : No Postscript (this can be an advantage in\n",
            "speed, usually). Ways around this are Ghostscript or Freedom of Press\n",
            "software solutions. I bet HP probably has a PS prototype inkjet, but\n",
            "they won't release it for fear of hurting LJ sales.\n",
            "\n",
            "In the end, the primary advantages of laser are true postscript\n",
            "(unless you go for cheap lasers), and fused toner (no smearing, even\n",
            "when soaking in water). Lasers are slightly sharper, but the only\n",
            "instance where I needed precise layouts was Printed Circuit Board\n",
            "Transparencies for PhotoEtching. I found a Textronix color Phaser\n",
            "Postscript (Thermal Wax Transfer) to work the best to make PCB\n",
            "negatives directly onto a transparency.\n",
            "\n",
            "Well, hope my babbling has helped.\n",
            "-squish@endor.harvard.edu\n",
            "\n",
            "\n",
            "------------------------------------------------------------------\n",
            "sci.electronics --> sci.crypt\n",
            "\n",
            "From: ggruscho@nyx.cs.du.edu (George Gruschow)\n",
            "Subject: Re: How to the disks copy protected.\n",
            "Organization: University of Denver, Dept. of Math & Comp. Sci.\n",
            "Lines: 29\n",
            "\n",
            "ketil@edb.tih.no (Ketil Albertsen,TIH) writes:\n",
            "\n",
            ">In article <1993Apr20.230749.12821@reed.edu>, mblock@reed.edu (Matt Block) writes:\n",
            "\n",
            ">>\tI guess what I am saying is that your question is difficult, if not\n",
            ">>impossible, to answer.  What exactly do you want to know?  Do you need a good\n",
            ">>one for a project you are working on?  How secure must it be?  Are you trying\n",
            ">>to crack one that someone else has used?  I can probably make suggestions,\n",
            ">>assuming the activity is strictly legal.  (In general, it is a BAD idea,\n",
            ">>legally, to tamper with copy protection.  It can also lead to corruption of\n",
            ">>files which you necessarily do not have back ups of (being as they are copy\n",
            ">>protected,) which can be devestating.)  Do you have absolutely no ideas for\n",
            ">>practical applications, and are merely curious?\n",
            ">>\tPlease clear up those questions, and I'll try to help as much as I\n",
            ">>can.\n",
            "\n",
            ">May we interpret this as an offer to volunteer as editor for a\n",
            ">\"Copy protection FAQ\" ? I am quite sure that I am not alone welcoming such\n",
            ">an initiative! *I* will volunteer to ask some of the questions, if you will\n",
            ">provide the answers :-)\n",
            "\n",
            ">Ketil Albertsen\n",
            "\n",
            "That's great.  Read my article.  Edit out the personal formality, and save.\n",
            "--\n",
            "-------------------------------------------------------------------------------\n",
            "George Gruschow                                Death do you gronk.\n",
            "ag625@yfn.ysu.edu                              ggruscho@nyx.cs.du.edu\n",
            "-------------------------------------------------------------------------------\n",
            "\n",
            "------------------------------------------------------------------\n",
            "sci.electronics --> sci.crypt\n",
            "\n",
            "From: CONRADIE@firga.sun.ac.za (Gerrit Conradie)\n",
            "Subject: Re: How to make the disks copy protected (continued)\n",
            "Organization: University of Stellenbosch, SA\n",
            "Lines: 31\n",
            "\n",
            "In article <sehari.735962071@du139-201.cc.iastate.edu> sehari@iastate.edu (Babak Sehari) writes:\n",
            ">From: sehari@iastate.edu (Babak Sehari)\n",
            ">Subject: How to make the disks copy protected (continued)\n",
            ">Date: Wed, 28 Apr 1993 01:54:31 GMT\n",
            ">---\n",
            ">\n",
            ">The discussion under the old topic went in the wrong direction.  Some people,\n",
            ">instead of discussing the issue itself, they decided to discuss the\n",
            ">non-technical part of the issue.  So, Here I go with my limited knowledge\n",
            ">about this issue.  Hoping you guys cut the crap and talk about the real\n",
            ">technical ways to do this.  The methods that I am aware that are effective\n",
            ">are:\n",
            ">\n",
            ">1- Laser hole burning.  This would leave the disk damaged, so if you format\n",
            ">   that particular sector of the disk you can not write to it.  It is very \n",
            "                                           ^^^^^^^^^^^^^^^^^^^\n",
            "Laser holes are (or were) used to prevent someone from making exact copies \n",
            "of a disk. You do not want to write to the damaged disk, only read and use \n",
            "the programs.\n",
            "\n",
            ">   hard for crackers to damage the disk exactly the same way.\n",
            ">\n",
            "\n",
            "I remember a program called Copywrite that could copy a disk with a laser \n",
            "hole in it. I think it simulates the laser hole. After copying the disk the \n",
            "program is, if necessary, used in conjunction with a program called Nokey or \n",
            "something. (The program tells you which program to use)\n",
            "\n",
            "No solution.\n",
            "\n",
            "- gerrit\n",
            "\n"
          ]
        }
      ]
    },
    {
      "cell_type": "code",
      "source": [
        "print(metrics.classification_report(testing_data.target, predictions, target_names=categories))"
      ],
      "metadata": {
        "colab": {
          "base_uri": "https://localhost:8080/"
        },
        "id": "1vNA1cH0ayv0",
        "outputId": "d1d3bade-066a-45d8-f35c-d6016d6a7a51"
      },
      "execution_count": null,
      "outputs": [
        {
          "output_type": "stream",
          "name": "stdout",
          "text": [
            "                         precision    recall  f1-score   support\n",
            "\n",
            "        sci.electronics       0.98      0.83      0.90       394\n",
            "              sci.crypt       0.95      0.97      0.96       398\n",
            "comp.os.ms-windows.misc       0.69      0.98      0.81       396\n",
            "        rec.motorcycles       0.98      0.69      0.81       393\n",
            "\n",
            "               accuracy                           0.87      1581\n",
            "              macro avg       0.90      0.87      0.87      1581\n",
            "           weighted avg       0.90      0.87      0.87      1581\n",
            "\n"
          ]
        }
      ]
    },
    {
      "cell_type": "markdown",
      "source": [
        "## Discussions\n",
        "In this task, we had classified the messages into 4 different groups. For this, we took 20newsgroups datasets from sklearn and implemented simple word count features like tf and tf-idf for representation of text and Multinomial Naïve Bayes for classification.\n",
        "\n",
        "From the above metrics for performance evaluation, we can conclude that the accuracy of the model was 87% approx which is pretty good. For classification we had classified the message into four class 'sci.electronic', 'sci.crypt', 'comp.os.ms-windows.misc' and 'rec.motorcycles'.\n",
        "\n",
        "For sci.electronics the precision value was 0.98, the recall was 0.83 and the f1-score of 0.90. It means that 98% of the message that was predicted under the group of sci.electronics were true and the remaining 2% predicted for sci.electronics category falls under a different category. Similarly, 83% of messages from group sci.electronics were predicted as sci.electronics and remaining messages from sci.electronics group were predicted something else.\n",
        "\n",
        "95% of the message that was predicted under the group of sci.crypt were true and the remaining 5% were false predictions. Similarly, 97% of messages from group sci.crypt were predicted as sci.crypt and the remaining messages from sci.crypt group were predicted something else.\n",
        "\n",
        "69% of the message that was predicted under the group of comp.os.ms-windows.misc were true and the remaining were false predictions which is quite low. Similarly, 98% of messages from group comp.os.ms-windows.misc were predicted as comp.os.ms-windows.misc and remaining messages from comp.os.ms-windows.misc group were predicted something else.\n",
        "\n",
        "98% of the message that was predicted under the group of rec.motorcycles were true and the remaining were false predictions. Similarly, 69% of messages from group rec.motorcycles were predicted as rec.motorcycles and the remaining message from rec.motorcycles group were predicted something else.\n",
        "\n",
        "From the observation of the f1-score, we find that sci.crypt group higher value i.e. 0.96. So, we can conclude that the classification performs pretty well for sci.crypt group."
      ],
      "metadata": {
        "id": "JAgK0_YMa1of"
      }
    }
  ]
}