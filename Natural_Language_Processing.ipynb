{
  "nbformat": 4,
  "nbformat_minor": 0,
  "metadata": {
    "colab": {
      "provenance": [],
      "collapsed_sections": [],
      "include_colab_link": true
    },
    "kernelspec": {
      "name": "python3",
      "display_name": "Python 3"
    },
    "language_info": {
      "name": "python"
    }
  },
  "cells": [
    {
      "cell_type": "markdown",
      "metadata": {
        "id": "view-in-github",
        "colab_type": "text"
      },
      "source": [
        "<a href=\"https://colab.research.google.com/github/kiranshahi/Natural-Language-Processing/blob/main/Natural_Language_Processing.ipynb\" target=\"_parent\"><img src=\"https://colab.research.google.com/assets/colab-badge.svg\" alt=\"Open In Colab\"/></a>"
      ]
    },
    {
      "cell_type": "markdown",
      "metadata": {
        "id": "2A2KFRhi2vWM"
      },
      "source": [
        "# Natural Langauage Processing\n",
        "\n",
        "## Sentiment Analysis\n",
        "\n",
        "### Problem description\n",
        "\n",
        "Though the Sentiment analysis problem is considered as the basic problem in natural language processing, it is still a challenging problem if we want to achieve a perfect performance. Because of the wide variety of writing styles, sarcasm, slang, etc.\n",
        "\n",
        "In this lab task, we are going to use the \"movie_reviews\" dataset from the nltk corpus. This dataset contains a set of 1000 positive and 1000 negative reviews.\n",
        "\n",
        "We can formulate this problem of sentiment analysis for movie reviews in the following ways.\n",
        "\n",
        "*   Load the positive and negative reviews separately into raw_data\n",
        "*   We generate the labels for the reviews, 0 for positive and 1 for negative. From \"raw_data\" and \"labels\", we split 80% data into the training set and 20% in the testing set.\n",
        "*   Convert the text into tf-idf / tf vectors.\n",
        "*   Train the data with naïve Bayes classifier. Since our data are discrete, we will use Multinomial Naïve Bayes classifier to train dataset.\n",
        "*   Next, we will evaluate the performance from the metrics of precision, recall and f1-score.\n",
        "\n",
        "### Implementation and Results"
      ]
    },
    {
      "cell_type": "code",
      "metadata": {
        "colab": {
          "base_uri": "https://localhost:8080/"
        },
        "id": "mkl3ci7C21wJ",
        "outputId": "213b301f-6337-4dc1-f443-51b430b2d992"
      },
      "source": [
        "!pip install nltk\n",
        "import nltk\n",
        "from nltk.corpus import movie_reviews\n",
        "\n",
        "nltk.download('movie_reviews')"
      ],
      "execution_count": null,
      "outputs": [
        {
          "output_type": "stream",
          "name": "stdout",
          "text": [
            "Requirement already satisfied: nltk in /usr/local/lib/python3.7/dist-packages (3.2.5)\n",
            "Requirement already satisfied: six in /usr/local/lib/python3.7/dist-packages (from nltk) (1.15.0)\n",
            "[nltk_data] Downloading package movie_reviews to /root/nltk_data...\n",
            "[nltk_data]   Package movie_reviews is already up-to-date!\n"
          ]
        },
        {
          "output_type": "execute_result",
          "data": {
            "text/plain": [
              "True"
            ]
          },
          "metadata": {},
          "execution_count": 1
        }
      ]
    },
    {
      "cell_type": "code",
      "metadata": {
        "id": "BiNDOij024NB"
      },
      "source": [
        "from sklearn.naive_bayes import MultinomialNB\n",
        "from sklearn.feature_extraction.text import TfidfVectorizer\n",
        "from sklearn import metrics\n",
        "from sklearn.model_selection import train_test_split\n",
        "\n",
        "import matplotlib.pyplot as plt"
      ],
      "execution_count": null,
      "outputs": []
    },
    {
      "cell_type": "code",
      "metadata": {
        "id": "vyISw9e93BHY"
      },
      "source": [
        "# Get the positive and negative review IDs\n",
        "fileids_pos = movie_reviews.fileids('pos')\n",
        "fileids_neg = movie_reviews.fileids('neg')\n",
        "# Load the reviews\n",
        "raw_data = []\n",
        "for i in range(len(fileids_pos)):\n",
        "  raw_data.append(movie_reviews.raw(fileids_pos[i]))\n",
        "for i in range(len(fileids_neg)):\n",
        "  raw_data.append(movie_reviews.raw(fileids_neg[i]))\n",
        "\n",
        "# The corresponding labels for the reviews, 0 for postive, 1 for negative\n",
        "labels = [0] * len(fileids_pos) + [1] * len(fileids_neg)\n",
        "\n",
        "# Split the training and testing set by 80-20%\n",
        "X_train, X_test, Y_train, Y_test = train_test_split(raw_data, labels, test_size=0.2)"
      ],
      "execution_count": null,
      "outputs": []
    },
    {
      "cell_type": "code",
      "metadata": {
        "id": "hTRfVM_G3Dbx"
      },
      "source": [
        "# Calculate the tf-idf features from the training set\n",
        "def calculate_tf_tfid(is_tfidf):\n",
        "  tfidf = TfidfVectorizer(use_idf=is_tfidf)\n",
        "  tfidf_data = tfidf.fit_transform(X_train)\n",
        "  # print(tfidf_data.shape)\n",
        "  \n",
        "  # Train the naive Bayes model for prediction\n",
        "  classifier = MultinomialNB().fit(tfidf_data, Y_train)\n",
        "\n",
        "  test_performance(classifier, tfidf)\n"
      ],
      "execution_count": null,
      "outputs": []
    },
    {
      "cell_type": "code",
      "metadata": {
        "id": "esFH2OkUWWR4"
      },
      "source": [
        "# Evaluate the sentiment for each sentence in a review, and plot the variation of sentiment\n",
        "def plot_sentiment_variation(classifier, tfidf):\n",
        "  sentences = X_test[0].split('.')\n",
        "  testing_tfidf = tfidf.transform(sentences)\n",
        "  predictions = classifier.predict_proba(testing_tfidf)\n",
        "  polarity = [x[0] - x[1] for x in predictions]\n",
        "  # polarity = [x[0] if (x[0] > x[1]) else -x[1] for x in predictions]\n",
        "  \n",
        "  plt.xlabel('Sentences')\n",
        "  plt.ylabel('Polarity')\n",
        "  plt.plot(polarity)\n",
        "  plt.ylim(-1, 1)"
      ],
      "execution_count": null,
      "outputs": []
    },
    {
      "cell_type": "code",
      "metadata": {
        "id": "DwEjgJQ83ENv"
      },
      "source": [
        "# Performance on the testing set\n",
        "def test_performance(classifier, tfidf):\n",
        "  testing_tfidf = tfidf.transform(X_test)\n",
        "  predictions = classifier.predict(testing_tfidf)\n",
        "  print(metrics.classification_report(Y_test, predictions, target_names=['pos', 'neg']))\n",
        "  plot_sentiment_variation(classifier,tfidf)"
      ],
      "execution_count": null,
      "outputs": []
    },
    {
      "cell_type": "code",
      "metadata": {
        "colab": {
          "base_uri": "https://localhost:8080/",
          "height": 467
        },
        "id": "ANFC8PZhUdVd",
        "outputId": "70d819c3-27ef-4248-fbb5-f1f40b5bdb8d"
      },
      "source": [
        "#implementing the tf-idf feature\n",
        "print(\"Performance evaluation metrics for tf-idf feature\")\n",
        "calculate_tf_tfid(True)"
      ],
      "execution_count": null,
      "outputs": [
        {
          "output_type": "stream",
          "name": "stdout",
          "text": [
            "Performance evaluation metrics for tf-idf feature\n",
            "              precision    recall  f1-score   support\n",
            "\n",
            "         pos       0.93      0.54      0.68       216\n",
            "         neg       0.64      0.95      0.76       184\n",
            "\n",
            "    accuracy                           0.73       400\n",
            "   macro avg       0.78      0.75      0.72       400\n",
            "weighted avg       0.80      0.73      0.72       400\n",
            "\n"
          ]
        },
        {
          "output_type": "display_data",
          "data": {
            "image/png": "[encoded data removed]",
            "text/plain": [
              "<Figure size 432x288 with 1 Axes>"
            ]
          },
          "metadata": {
            "needs_background": "light"
          }
        }
      ]
    },
    {
      "cell_type": "code",
      "metadata": {
        "colab": {
          "base_uri": "https://localhost:8080/",
          "height": 467
        },
        "id": "45ut4nlQUfGa",
        "outputId": "1ba58854-5053-4aa6-cdea-e8d38ef01a19"
      },
      "source": [
        "#implementing the tf features\n",
        "print(\"Performance evaluation metrics for tf feature\")\n",
        "calculate_tf_tfid(False)"
      ],
      "execution_count": null,
      "outputs": [
        {
          "output_type": "stream",
          "name": "stdout",
          "text": [
            "Performance evaluation metrics for tf feature\n",
            "              precision    recall  f1-score   support\n",
            "\n",
            "         pos       1.00      0.08      0.15       216\n",
            "         neg       0.48      1.00      0.65       184\n",
            "\n",
            "    accuracy                           0.50       400\n",
            "   macro avg       0.74      0.54      0.40       400\n",
            "weighted avg       0.76      0.50      0.38       400\n",
            "\n"
          ]
        },
        {
          "output_type": "display_data",
          "data": {
            "image/png": "[encoded data removed]",
            "text/plain": [
              "<Figure size 432x288 with 1 Axes>"
            ]
          },
          "metadata": {
            "needs_background": "light"
          }
        }
      ]
    },
    {
      "cell_type": "code",
      "metadata": {
        "id": "uPzxj2l_3Gi_"
      },
      "source": [
        "# print(X_train[0])\n",
        "# print(testing_tfidf[0])"
      ],
      "execution_count": null,
      "outputs": []
    },
    {
      "cell_type": "markdown",
      "metadata": {
        "id": "WIThzwmh43kH"
      },
      "source": [
        "### Discussions\n",
        "In this task, we had implemented sentiment analysis using the simple word count (tf/tf-idf) features and naïve Bayes method on \"movie_reviews\" dataset, where we have 1000 positive and 1000 negative reviews.\n",
        "\n",
        "#### For tf feature\n",
        "When using the tf feature we got an accuracy of 0.79 which means our model is 79% accurate. The result shows that the precision for positive is 0.89 (89%) and negative is 0.73 (73%). It means that 89 out of 100 reviews that were predicted positive are correct and others are false predictions. Similarly, 73 out of 100 negative reviews predicted were correct and the rest are false predictions. In comparison, to the tf-idf feature, the accuracy of negative prediction is quite low.\n",
        "\n",
        "Likewise, the recall value for positive and negative prediction was 0.64 and 0.93 respectively. It means that model was able to predict 64 positive reviews out of 100 positive reviews. Similarly, it was able to predict 93 negative reviews out of 100 negative reviews which is pretty good.\n",
        "\n",
        "#### For tf-idf feature\n",
        "After using the tf-idf feature we got an accuracy of 0.83 which is higher than the tf feature. It means the sentiment analysis model using tf-idf feature is 83% accurate. From metrics for the performance evaluation displayed above, we got a precision of 0.84 for positive and 0.82 for negative. It means that 84% of the review predicted positive was correct and the rest were false prediction. Similarly, 82% of the review predicted negative was correct and the rest were false predictions.\n",
        "\n",
        "Likewise, the recall value for positive was 0.80 and negative was 0.85. It means that model was able to predict 80 positive reviews out of 100 positive reviews and 85 negative reviews out of 100 negative reviews."
      ]
    },
    {
      "cell_type": "markdown",
      "metadata": {
        "id": "dojzIpq14Cb3"
      },
      "source": [
        "## Text Classification\n",
        "\n",
        "### Problem description\n",
        "In this task, we are going to categories the document and assign it to one of 20 newsgroups. Here we have dataset called 20newsgroups from sklearn which contain the collection of message and 20 newsgroups such as 'sci.electronics', 'sci.crypt','comp.os.ms-windows.misc', 'rec.motorcycles' etc.\n",
        "\n",
        "We are going to use simple word count features like tf or tf-idf, and **Multinomial Naïve Bayes** as the method of classification.\n",
        "\n",
        "We can formulate a text classification problem in the following steps.\n",
        "\n",
        "\n",
        "*   20newsgroups dataset is divided into two subsets for training (development) and testing(performance evaluation). At first, we load the 'train' subset as training data.\n",
        "*   We convert train data into tf-idf or tf vectors.\n",
        "*   Next we train our data with Multinomial Naïve Bayes classifier.\n",
        "*   We load the testing set of data, convert it into tf-idf features and perform the classification.\n",
        "\n",
        "\n",
        "### Implementation and Results"
      ]
    },
    {
      "cell_type": "code",
      "metadata": {
        "id": "enAEFtsY4ZuQ"
      },
      "source": [
        "from sklearn.datasets import fetch_20newsgroups\n",
        "from sklearn.naive_bayes import MultinomialNB\n",
        "from sklearn.feature_extraction.text import TfidfVectorizer"
      ],
      "execution_count": null,
      "outputs": []
    },
    {
      "cell_type": "code",
      "metadata": {
        "id": "15tBb0dk4cbm"
      },
      "source": [
        "# Get the training dataset for the specified categoires\n",
        "categories = ['sci.electronics', 'sci.crypt',\n",
        "              'comp.os.ms-windows.misc', 'rec.motorcycles']\n",
        "training_data = fetch_20newsgroups(subset='train', categories=categories)\n",
        "\n"
      ],
      "execution_count": null,
      "outputs": []
    },
    {
      "cell_type": "code",
      "metadata": {
        "colab": {
          "base_uri": "https://localhost:8080/"
        },
        "id": "A9r7A8r14iiH",
        "outputId": "49e0115a-add3-46aa-fe99-1e7cb973e491"
      },
      "source": [
        "# Create the tf-idf transformer\n",
        "tfidf = TfidfVectorizer(use_idf=True)\n",
        "# tfidf = TfidfVectorizer(use_idf=False)\n",
        "training_tfidf = tfidf.fit_transform(training_data.data)\n",
        "print(training_tfidf.shape)\n",
        "\n",
        "# Train a Multinomial Naive Bayes classifier\n",
        "classifier = MultinomialNB().fit(training_tfidf, training_data.target)\n"
      ],
      "execution_count": null,
      "outputs": [
        {
          "output_type": "stream",
          "name": "stdout",
          "text": [
            "(2375, 64073)\n"
          ]
        }
      ]
    },
    {
      "cell_type": "code",
      "metadata": {
        "id": "deOo4XPs4kRv"
      },
      "source": [
        "from sklearn import metrics\n",
        "\n",
        "testing_data = fetch_20newsgroups(subset='test', categories=categories)\n",
        "testing_tfidf = tfidf.transform(testing_data.data)\n",
        "predictions = classifier.predict(testing_tfidf)"
      ],
      "execution_count": null,
      "outputs": []
    },
    {
      "cell_type": "code",
      "metadata": {
        "colab": {
          "base_uri": "https://localhost:8080/"
        },
        "id": "3i2UalAU4mIg",
        "outputId": "9e407de1-0f1f-4960-d8d0-ef1054f6fd29"
      },
      "source": [
        "errors = [i for i in range(len(predictions)) if predictions[i] != testing_data.target[i]]\n",
        "\n",
        "for i, post_id in enumerate(errors[:5]):\n",
        "  print(\"------------------------------------------------------------------\")\n",
        "  print(\"%s --> %s\\n\" %(testing_data.target_names[testing_data.target[post_id]], \n",
        "                      testing_data.target_names[predictions[post_id]]))\n",
        "  print(testing_data.data[post_id])\n"
      ],
      "execution_count": null,
      "outputs": [
        {
          "output_type": "stream",
          "name": "stdout",
          "text": [
            "------------------------------------------------------------------\n",
            "sci.electronics --> rec.motorcycles\n",
            "\n",
            "From: jeffj@cbnewsm.cb.att.com (jeffrey.n.jones)\n",
            "Subject: SPICE for XT with no co-processer?\n",
            "Organization: AT&T\n",
            "Distribution: usa\n",
            "Lines: 10\n",
            "\n",
            "I want to run SPICE on my XT so I can learn more about amplifiers\n",
            "and oscilators. Is there a version of this that will run on my XT\n",
            "with no math co-processer, if so where can I get it? Thanks for any\n",
            "and all help!\n",
            "\n",
            "Jeff\n",
            "-- \n",
            " Jeff Jones  AB6MB         |  OPPOSE THE NORTH AMERICAN FREE TRADE AGREEMENT!\n",
            " jeffj@seeker.mystic.com   |  Canada/USA Free Trade cost Canada 400,000 jobs. \n",
            " Infolinc BBS 415-778-5929 |  Want to guess how many we'll lose to Mexico?\n",
            "\n",
            "------------------------------------------------------------------\n",
            "sci.electronics --> sci.crypt\n",
            "\n",
            "From: me170pjd@emba-news.uvm.edu.UUCP (Peter J Demko)\n",
            "Subject: Re: PC parallel I (!= I/O)\n",
            "Originator: me170pjd@freehold.emba.uvm.edu\n",
            "Organization: University of Vermont -- Division of EMBA Computer Facility\n",
            "Lines: 19\n",
            "\n",
            "From article <1993Apr26.110250.5243@nmt.edu>, by erickson@azure.nmt.edu (Alan Erickson):\n",
            "> \tI'm trying to bring in 8+ bits to a PC, and would like\n",
            "> \tto use interrupt-driven routines. Without buying an IO\n",
            "> \tboard or making a new port, _where_ can I bring in these\n",
            "> \tbits? LPT seems to have only a few inputs, but I've heard\n",
            "> \trumours that some LPTs have bidirectional lines. Anybody\n",
            "> \tknow fer sure? If any bi-d LPTs, which boards have them\n",
            "> \t(I'll be running a new 386DX-33)?\n",
            "> \n",
            "> ------------------------------------------------------------------\n",
            "> Alan Erickson   erickson@baltic.nmt.edu\t\t\n",
            "> \n",
            "> to all SunRayce '93 competitors: I hope you're getting\n",
            "> about as much sleep as I am.....\n",
            "> ------------------------------------------------------------------\n",
            "\n",
            "I'M WATCHING ONE BEING BUILT RIGHT HERE AT UVM AND THE TEAM IS \n",
            "SHAGGIN' IT THESE DAYS.\n",
            "                                 ME170PJD@UVM.EDU\n",
            "\n",
            "------------------------------------------------------------------\n",
            "sci.electronics --> sci.crypt\n",
            "\n",
            "From: squish@endor.uucp (Shishin Yamada)\n",
            "Subject: Re: Laser vs Bubblejet?\n",
            "Organization: Aiken Computation Lab, Harvard University\n",
            "Lines: 56\n",
            "\n",
            "\tJust thought I would add $0.02 to DeskJet thread. I got my\n",
            "first one in college about 5 or so years ago.\n",
            "\n",
            "\tI've been a happy HP user of the DeskWriter for Macintosh for\n",
            "past 5 years. I got one just a few months after their release. And I\n",
            "got software revision 1.0a (now I'm up to rev. 3.1. Our family (sister\n",
            "and father) have each purchased their own DW's after seeing mine go\n",
            "for one year unscathed (their stuck to their trusty ImageWriter II's).\n",
            "The original DW has gone for 5 years at moderate personal use. I would\n",
            "say that it has gone through at least 15,000 sheets, and around one\n",
            "(small) ink cartridge every 3 months or so.\n",
            "\n",
            "\tMy brother might take this DW now (I'm probably gonna give it\n",
            "to him), and I am looking to upgrade to a color DW. The chief\n",
            "advantages/disadvantages I've found over the years are:\n",
            "\n",
            "Advantages:\tQuick (2-3 ppm), Quiet (roomate can sleep while it's\n",
            "printing), AppleTalk Networkable (unfortunately the original wasn't,\n",
            "so look out if you buy used. I rewired our home with phonenet\n",
            "AppleTalk connectors, and while home, we can all use my dad's one\n",
            "DW!), and cheap (now run ~$300). BTW, you can upgrade older DW's to\n",
            "color or for appletalk, I dunno if HP still does the upgrades, but I\n",
            "received many offers (I just didn't ned it however). Also, crisp\n",
            "laser-quality output is a wonder (used to really impress those\n",
            "ImageWriter Dot-Matrix people so much so, that I had to charge $0.25\n",
            "per sheet to stop my college dorm neighbors from bothering me at all\n",
            "hours of the night....)\n",
            "\n",
            "Disadvantages.\tInk used to be hard to find, and wasn't cheap, and\n",
            "wasn't originally water-proof. While HP has done wonders with the ink\n",
            "(I dunno if it's still toxic), it is still subjet to smearing and\n",
            "running (if you run around in the damp Boston rain, and get your\n",
            "bookbag completely soaked). Ink now runs about $14-$15 for small carts\n",
            "(I get mine from Elek-Tek in Chicago, I think they're now down to\n",
            "$12). The ink carts used to say they're dated for only 6 months, but\n",
            "I don't think they say so anymore. We stick to a 4 month supply (of\n",
            "about 3 carts). We use cheap Hammerhill Laser Print paper (after\n",
            "fooling for a long time. Laser/Xerox paper is also good). Smearing\n",
            "doesn't happen, unless you have a brand new ink cart and you grab the\n",
            "paper and smudge it all over as soon as it comes out of the machine.\n",
            "Other disadvantages are : No Postscript (this can be an advantage in\n",
            "speed, usually). Ways around this are Ghostscript or Freedom of Press\n",
            "software solutions. I bet HP probably has a PS prototype inkjet, but\n",
            "they won't release it for fear of hurting LJ sales.\n",
            "\n",
            "In the end, the primary advantages of laser are true postscript\n",
            "(unless you go for cheap lasers), and fused toner (no smearing, even\n",
            "when soaking in water). Lasers are slightly sharper, but the only\n",
            "instance where I needed precise layouts was Printed Circuit Board\n",
            "Transparencies for PhotoEtching. I found a Textronix color Phaser\n",
            "Postscript (Thermal Wax Transfer) to work the best to make PCB\n",
            "negatives directly onto a transparency.\n",
            "\n",
            "Well, hope my babbling has helped.\n",
            "-squish@endor.harvard.edu\n",
            "\n",
            "\n",
            "------------------------------------------------------------------\n",
            "sci.electronics --> sci.crypt\n",
            "\n",
            "From: ggruscho@nyx.cs.du.edu (George Gruschow)\n",
            "Subject: Re: How to the disks copy protected.\n",
            "Organization: University of Denver, Dept. of Math & Comp. Sci.\n",
            "Lines: 29\n",
            "\n",
            "ketil@edb.tih.no (Ketil Albertsen,TIH) writes:\n",
            "\n",
            ">In article <1993Apr20.230749.12821@reed.edu>, mblock@reed.edu (Matt Block) writes:\n",
            "\n",
            ">>\tI guess what I am saying is that your question is difficult, if not\n",
            ">>impossible, to answer.  What exactly do you want to know?  Do you need a good\n",
            ">>one for a project you are working on?  How secure must it be?  Are you trying\n",
            ">>to crack one that someone else has used?  I can probably make suggestions,\n",
            ">>assuming the activity is strictly legal.  (In general, it is a BAD idea,\n",
            ">>legally, to tamper with copy protection.  It can also lead to corruption of\n",
            ">>files which you necessarily do not have back ups of (being as they are copy\n",
            ">>protected,) which can be devestating.)  Do you have absolutely no ideas for\n",
            ">>practical applications, and are merely curious?\n",
            ">>\tPlease clear up those questions, and I'll try to help as much as I\n",
            ">>can.\n",
            "\n",
            ">May we interpret this as an offer to volunteer as editor for a\n",
            ">\"Copy protection FAQ\" ? I am quite sure that I am not alone welcoming such\n",
            ">an initiative! *I* will volunteer to ask some of the questions, if you will\n",
            ">provide the answers :-)\n",
            "\n",
            ">Ketil Albertsen\n",
            "\n",
            "That's great.  Read my article.  Edit out the personal formality, and save.\n",
            "--\n",
            "-------------------------------------------------------------------------------\n",
            "George Gruschow                                Death do you gronk.\n",
            "ag625@yfn.ysu.edu                              ggruscho@nyx.cs.du.edu\n",
            "-------------------------------------------------------------------------------\n",
            "\n",
            "------------------------------------------------------------------\n",
            "sci.electronics --> sci.crypt\n",
            "\n",
            "From: CONRADIE@firga.sun.ac.za (Gerrit Conradie)\n",
            "Subject: Re: How to make the disks copy protected (continued)\n",
            "Organization: University of Stellenbosch, SA\n",
            "Lines: 31\n",
            "\n",
            "In article <sehari.735962071@du139-201.cc.iastate.edu> sehari@iastate.edu (Babak Sehari) writes:\n",
            ">From: sehari@iastate.edu (Babak Sehari)\n",
            ">Subject: How to make the disks copy protected (continued)\n",
            ">Date: Wed, 28 Apr 1993 01:54:31 GMT\n",
            ">---\n",
            ">\n",
            ">The discussion under the old topic went in the wrong direction.  Some people,\n",
            ">instead of discussing the issue itself, they decided to discuss the\n",
            ">non-technical part of the issue.  So, Here I go with my limited knowledge\n",
            ">about this issue.  Hoping you guys cut the crap and talk about the real\n",
            ">technical ways to do this.  The methods that I am aware that are effective\n",
            ">are:\n",
            ">\n",
            ">1- Laser hole burning.  This would leave the disk damaged, so if you format\n",
            ">   that particular sector of the disk you can not write to it.  It is very \n",
            "                                           ^^^^^^^^^^^^^^^^^^^\n",
            "Laser holes are (or were) used to prevent someone from making exact copies \n",
            "of a disk. You do not want to write to the damaged disk, only read and use \n",
            "the programs.\n",
            "\n",
            ">   hard for crackers to damage the disk exactly the same way.\n",
            ">\n",
            "\n",
            "I remember a program called Copywrite that could copy a disk with a laser \n",
            "hole in it. I think it simulates the laser hole. After copying the disk the \n",
            "program is, if necessary, used in conjunction with a program called Nokey or \n",
            "something. (The program tells you which program to use)\n",
            "\n",
            "No solution.\n",
            "\n",
            "- gerrit\n",
            "\n"
          ]
        }
      ]
    },
    {
      "cell_type": "code",
      "metadata": {
        "colab": {
          "base_uri": "https://localhost:8080/"
        },
        "id": "w56BWmrfmXkB",
        "outputId": "5436627e-915c-44d5-ec8e-dd452f2f861a"
      },
      "source": [
        "print(metrics.classification_report(testing_data.target, predictions, target_names=categories))"
      ],
      "execution_count": null,
      "outputs": [
        {
          "output_type": "stream",
          "name": "stdout",
          "text": [
            "                         precision    recall  f1-score   support\n",
            "\n",
            "        sci.electronics       0.98      0.83      0.90       394\n",
            "              sci.crypt       0.95      0.97      0.96       398\n",
            "comp.os.ms-windows.misc       0.69      0.98      0.81       396\n",
            "        rec.motorcycles       0.98      0.69      0.81       393\n",
            "\n",
            "               accuracy                           0.87      1581\n",
            "              macro avg       0.90      0.87      0.87      1581\n",
            "           weighted avg       0.90      0.87      0.87      1581\n",
            "\n"
          ]
        }
      ]
    },
    {
      "cell_type": "markdown",
      "metadata": {
        "id": "VmnASnFB471X"
      },
      "source": [
        "### Discussions\n",
        "In this task, we had classified the messages into 4 different groups. For this, we took 20newsgroups datasets from sklearn and implemented simple word count features like tf and tf-idf for representation of text and Multinomial Naïve Bayes for classification.\n",
        "\n",
        "From the above metrics for performance evaluation, we can conclude that the accuracy of the model was 87% approx which is pretty good. For classification we had classified the message into four class 'sci.electronic', 'sci.crypt', 'comp.os.ms-windows.misc' and 'rec.motorcycles'.\n",
        "\n",
        "For sci.electronics the precision value was 0.98, the recall was 0.83 and the f1-score of 0.90. It means that 98% of the message that was predicted under the group of sci.electronics were true and the remaining 2% predicted for sci.electronics category falls under a different category. Similarly, 83% of messages from group sci.electronics were predicted as sci.electronics and remaining messages from sci.electronics group were predicted something else.\n",
        "\n",
        "95% of the message that was predicted under the group of sci.crypt were true and the remaining 5% were false predictions. Similarly, 97% of messages from group sci.crypt were predicted as sci.crypt and the remaining messages from sci.crypt group were predicted something else.\n",
        "\n",
        "69% of the message that was predicted under the group of comp.os.ms-windows.misc were true and the remaining were false predictions which is quite low. Similarly, 98% of messages from group comp.os.ms-windows.misc were predicted as comp.os.ms-windows.misc and remaining messages from comp.os.ms-windows.misc group were predicted something else.\n",
        "\n",
        "98% of the message that was predicted under the group of rec.motorcycles were true and the remaining were false predictions. Similarly, 69% of messages from group rec.motorcycles were predicted as rec.motorcycles and the remaining message from rec.motorcycles group were predicted something else.\n",
        "\n",
        "From the observation of the f1-score, we find that sci.crypt group higher value i.e. 0.96. So, we can conclude that the classification performs pretty well for sci.crypt group."
      ]
    },
    {
      "cell_type": "markdown",
      "metadata": {
        "id": "0XOM-yvk5ESP"
      },
      "source": [
        "## Topic Modelling\n",
        "\n",
        "### Problem description\n",
        "\n",
        "Topic modelling is a type of statistical modelling where we aim to discover the hidden semantic structures from a large set of text known as the corpus (collections of documents).\n",
        "\n",
        "Here we are going to use the Laten Dirichlet Allocation (LDA) as a topic model to classify the text in a document. It assumes that each document in a corpus has one or more hidden topics, and each topic is supported by the number of words.\n",
        "\n",
        "We are going to find these hidden topics and their supporting words by maximising the posterior probability of the whole corpus with the given topics and words. `p(corpus|topics,words)`\n",
        "\n",
        "### Implementation and Results"
      ]
    },
    {
      "cell_type": "code",
      "metadata": {
        "id": "iAGhrm7k5MGQ"
      },
      "source": [
        "import nltk\n",
        "from nltk.corpus import stopwords\n",
        "from nltk.stem.snowball import SnowballStemmer\n",
        "from gensim import models, corpora\n"
      ],
      "execution_count": null,
      "outputs": []
    },
    {
      "cell_type": "code",
      "metadata": {
        "id": "orUekeYW5Qp3"
      },
      "source": [
        "documents = [\n",
        "  \"\"\"\n",
        "  Machine learning (ML) is the study of computer algorithms that can improve automatically through experience and by the use of data. \n",
        "  It is seen as a part of artificial intelligence. Machine learning algorithms build a model based on sample data, known as training data, \n",
        "  in order to make predictions or decisions without being explicitly programmed to do so. \n",
        "  Machine learning are used in a wide variety of applications, such as in medicine, email filtering, speech recognition, \n",
        "  and computer vision, where it is difficult or unfeasible to develop conventional algorithms to perform the needed tasks.\n",
        "  We’re in the age where machines are no different. Machine Learning is still fairly a new concept. \n",
        "  We can teach machines how to learn and some machines can even learn on its own. This is magical phenomenon is called Machine Learning.\n",
        "  \".\n",
        "  \"\"\",\n",
        "  \"\"\"\n",
        "  Indian market on a working day, opens at 9:00 AM and closes at 3:30 PM. \n",
        "  The price of the stocks when the market opens is called the opening price. \n",
        "  The price of the stocks when the market closes is called the closing price. \n",
        "  Through the session, the stocks also hit two more values of importance \n",
        "  which are the day’s highest price and the day’s lowest price.\n",
        "  A market is where trading of stocks happen. Traders are of two kinds.\n",
        "  Trader who buys stocks and a trader who sells stocks. Sellers offer the stocks and buyers bid the stocks. \n",
        "  If there is buying pressure and buyers bid at a higher price and the stock prices rise, we call this state of market as bullish.\n",
        "  \"\"\"\n",
        "]"
      ],
      "execution_count": null,
      "outputs": []
    },
    {
      "cell_type": "code",
      "metadata": {
        "colab": {
          "base_uri": "https://localhost:8080/"
        },
        "id": "gVgssI3p5TvP",
        "outputId": "dcaa868f-4db2-4295-d2ca-b1a9ea242a17"
      },
      "source": [
        "# Clean the data by using stemming and stopwords removal\n",
        "\n",
        "nltk.download('stopwords')\n",
        "def stemming(documents):\n",
        "  stemmer = SnowballStemmer('english')\n",
        "  stop_words = stopwords.words('english')\n",
        "  texts = [\n",
        "           [stemmer.stem(word) for word in document.lower().split() if word not in stop_words]\n",
        "           for document in documents\n",
        "          ]\n",
        "  return texts\n"
      ],
      "execution_count": null,
      "outputs": [
        {
          "output_type": "stream",
          "name": "stdout",
          "text": [
            "[nltk_data] Downloading package stopwords to /root/nltk_data...\n",
            "[nltk_data]   Package stopwords is already up-to-date!\n"
          ]
        }
      ]
    },
    {
      "cell_type": "code",
      "metadata": {
        "id": "wiaXsPFM5VkW"
      },
      "source": [
        "texts = stemming(documents)\n",
        "\n",
        "# Create a dictionary from the words\n",
        "dictionary = corpora.Dictionary(texts)\n",
        "\n",
        "# Create a document-term matrix\n",
        "doc_term_mat = [dictionary.doc2bow(text) for text in texts]\n",
        "\n",
        "# Generate the LDA model \n",
        "num_topics = 2\n",
        "ldamodel = models.ldamodel.LdaModel(doc_term_mat, \n",
        "        num_topics=num_topics, id2word=dictionary, passes=25)\n"
      ],
      "execution_count": null,
      "outputs": []
    },
    {
      "cell_type": "code",
      "metadata": {
        "colab": {
          "base_uri": "https://localhost:8080/"
        },
        "id": "s3Z4x2XJ5Xkv",
        "outputId": "fc7dbcd9-0099-4350-a3d6-ea5761137572"
      },
      "source": [
        "num_words = 5\n",
        "for item in ldamodel.print_topics(num_topics=num_topics, num_words=num_words):\n",
        "  print(f'\\nTop {num_words} contributing words for {(\"first\" if item[0] == 0 else \"second\" )} document:')\n",
        "  list_of_strings = item[1].split(' + ')\n",
        "  for text in list_of_strings:\n",
        "    details = text.split('*')\n",
        "    print(\"%-12s:%0.2f%%\" %(details[1], 100*float(details[0])))\n"
      ],
      "execution_count": null,
      "outputs": [
        {
          "output_type": "stream",
          "name": "stdout",
          "text": [
            "\n",
            "Top 5 contributing words for first document:\n",
            "\"machin\"    :1.00%\n",
            "\"stock\"     :1.00%\n",
            "\"call\"      :1.00%\n",
            "\"price\"     :1.00%\n",
            "\"learn\"     :1.00%\n",
            "\n",
            "Top 5 contributing words for second document:\n",
            "\"machin\"    :4.40%\n",
            "\"stock\"     :3.80%\n",
            "\"learn\"     :3.30%\n",
            "\"market\"    :2.80%\n",
            "\"price\"     :2.80%\n"
          ]
        }
      ]
    },
    {
      "cell_type": "code",
      "metadata": {
        "colab": {
          "base_uri": "https://localhost:8080/"
        },
        "id": "WHLLbW9p5Z7O",
        "outputId": "fb62e651-4a98-45fd-dbc4-d588c500ec03"
      },
      "source": [
        "new_docs = [\n",
        "  \"\"\"\n",
        "  Stock market prediction and analysis are some of the most difficult jobs to complete. There are numerous causes for this,\n",
        "  including market volatility and a variety of other dependent and independent variables that influence the value of a certain stock \n",
        "  in the market. These variables make it extremely difficult for any stock market expert to anticipate the rise and fall of the \n",
        "  market with great precision. However, with the introduction of Machine Learning and its strong algorithms, the most recent market research \n",
        "  and Stock Market Prediction advancements have begun to include such approaches in analyzing stock market data. In summary, Machine Learning \n",
        "  Algorithms are widely utilized by many organizations in Stock market prediction. This article will walk through a simple implementation \n",
        "  of analyzing and forecasting the stock prices of a Popular Worldwide Online Retail Store in Python using various Machine Learning Algorithms.\n",
        "  \"\"\"\n",
        "]\n",
        "\n",
        "new_texts = stemming(new_docs)\n",
        "new_doc_term_mat = [dictionary.doc2bow(text) for text in new_texts]\n",
        "\n",
        "vector = ldamodel[new_doc_term_mat]\n",
        "print(vector[0])\n"
      ],
      "execution_count": null,
      "outputs": [
        {
          "output_type": "stream",
          "name": "stdout",
          "text": [
            "[(0, 0.01581701), (1, 0.984183)]\n"
          ]
        }
      ]
    },
    {
      "cell_type": "markdown",
      "metadata": {
        "id": "Hh0ScO_c5bwX"
      },
      "source": [
        "### Discussions\n",
        "In this task, we had built an LDA model for and discovered the abstract topics that occurred in the collection of documents.\n",
        "\n",
        "#### First document\n",
        "For the first document, the top five contributing words are machin (6.70%), learn (5.10%), algorithm (2.80%), data, (2.00%) and use (2.00%)respectively. The document was about machine learning and the topic suggested by the model is related to it which is expected.\n",
        "\n",
        "#### Second document\n",
        "For the second document, the top five contributing words are stock (6.40%), price (4.70%), market (4.70%), call (3.00%) and price. (3.00%)respectively. The document was about the stock market and the topic suggested by the model is related to it, which is as expected.\n",
        "\n",
        "#### New document\n",
        "For this, we picked the article related to implementation in the Machine learning stock market. So, that it contains the topic related to both documents. After computing its projection vector from the LDA model we got the following result. \n",
        "\n",
        "`[(0, 0.45192024), (1, 0.5480798)]`\n",
        "\n",
        "The result shows that the new document has content related to both the first and second documents."
      ]
    }
  ]
}